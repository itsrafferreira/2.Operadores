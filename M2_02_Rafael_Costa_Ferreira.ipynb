{
 "cells": [
  {
   "cell_type": "markdown",
   "metadata": {},
   "source": [
    "# Exercícios Módulo 2. Operadores\n",
    "\n",
    "Considerações a ter em conta:\n",
    "\n",
    "- Guardar este documento com o seguinte formato para entrega: __M2_02_nome_apelido1_apelido2__ \n",
    "- Fazer os exercícios com as ferramentas vistas nas sessões. Ainda não chegámos às condicionais nem ciclos \n",
    "- Comentar o código\n",
    "- Utilizar nomes de variáveis apropriados, se vai guardar uma nota, chamar a essa variável nota, não n ou x\n"
   ]
  },
  {
   "cell_type": "markdown",
   "metadata": {},
   "source": [
    "## Exercícios de operadores e expressões"
   ]
  },
  {
   "cell_type": "markdown",
   "metadata": {},
   "source": [
    "**1)  Armazenar 3 variáveis com 3 notas numéricas e fazer a média aritmética. Mostrar o resultado final com uma mensagem como esta: “A nota média é 6,0”**"
   ]
  },
  {
   "cell_type": "code",
   "execution_count": 1,
   "metadata": {},
   "outputs": [],
   "source": [
    "# Definir 3 variáveis com 3 notas numéricas\n",
    "nota_1 = 9.0\n",
    "nota_2 = 25.0\n",
    "nota_3 = 6.9\n",
    "\n",
    "# Calcular a média aritmética\n",
    "media = (nota_1 + nota_2 + nota_3) / 3\n",
    "\n",
    "# Mostrar o resultado com uma mensagem \n",
    "print(\"A nota média é {:.1f}\".format(media))"
   ]
  },
  {
   "cell_type": "markdown",
   "metadata": {},
   "source": [
    "**2) Continuar o exercício anterior. Cada nota tem o valor percentual seguinte:**\n",
    "\n",
    "* 1ª nota: vale 15% do total \n",
    "* 2ª nota: vale 35% do total \n",
    "* 3ª nota: vale 50% do total\n",
    "\n",
    "**Calcular a nota média final.**"
   ]
  },
  {
   "cell_type": "code",
   "execution_count": 2,
   "metadata": {},
   "outputs": [],
   "source": [
    "# Definir as notas e os valores percentuais\n",
    "nota_1 = 9.0\n",
    "nota_2 = 25.0\n",
    "nota_3 = 6.9\n",
    "\n",
    "valor_1 = 15 / 100  # 15% do total\n",
    "valor_2 = 35 / 100  # 35% do total\n",
    "valor_3 = 50 / 100  # 50% do total\n",
    "\n",
    "# Calcular a nota média final com base nos valores\n",
    "media_final = (nota_1 * valor_1) + (nota_2 * valor_2) + (nota_3 * valor_3)\n",
    "\n",
    "# Mostrar o resultado com uma mensagem formatada\n",
    "print(\"A nota média final é {:.1f}\".format(media_final))"
   ]
  },
  {
   "cell_type": "markdown",
   "metadata": {},
   "source": [
    "**3)  Ler 2 números por teclado e avaliar de forma booleana (True ou False) os seguintes aspetos:**\n",
    "\n",
    "* Se os dois números são iguais\n",
    "* Se os dois números são diferentes\n",
    "* Se o primeiro é maior que o segundo\n",
    "* Se o segundo é maior ou igual ao primeiro"
   ]
  },
  {
   "cell_type": "code",
   "execution_count": 3,
   "metadata": {},
   "outputs": [],
   "source": [
    "# Ler dois números \n",
    "numero_1 = float(input(\"Digite o primeiro número: \"))\n",
    "numero_2 = float(input(\"Digite o segundo número: \"))\n",
    "\n",
    "# Avaliar se os dois números são iguais\n",
    "sao_iguais = numero_1 == numero_2\n",
    "\n",
    "# Avaliar se os dois números são diferentes\n",
    "sao_diferentes = numero_1 != numero_2\n",
    "\n",
    "# Avaliar se o primeiro número é maior que o segundo\n",
    "primeiro_maior = numero1 > numero2\n",
    "\n",
    "# Avaliar se o segundo número é maior ou igual ao primeiro\n",
    "segundo_maior_ou_igual = numero_2 >= numero_1\n",
    "\n",
    "# Mostrar os resultados de forma booleana\n",
    "print(\"Os dois números são iguais:\", sao_iguais)\n",
    "print(\"Os dois números são diferentes:\", sao_diferentes)\n",
    "print(\"O primeiro número é maior que o segundo:\", primeiro_maior)\n",
    "print(\"O segundo número é maior ou igual ao primeiro:\", segundo_maior_ou_igual)"
   ]
  },
  {
   "cell_type": "markdown",
   "metadata": {},
   "source": [
    "**4) Ler uma cadeia de texto introduzida pelo teclado e avaliar se tem um comprimento maior ou igual a três e menor que dez (mostrar unicamente True ou False) Pista: utilizar operadores lógicos**"
   ]
  },
  {
   "cell_type": "code",
   "execution_count": 4,
   "metadata": {},
   "outputs": [],
   "source": [
    "# Ler uma cadeia de texto \n",
    "texto = input(\"Digite uma cadeia de texto: \")\n",
    "\n",
    "# Avaliar se o comprimento da cadeia de texto respeita os critérios\n",
    "comprimento_valido = len(texto) >= 3 and len(texto) < 10\n",
    "\n",
    "# Mostrar True ou False com base na avaliação\n",
    "print(comprimento_valido)"
   ]
  },
  {
   "cell_type": "markdown",
   "metadata": {},
   "source": [
    "**5) Transcrever o seguinte algoritmo (utilizar operadores de atribuição sempre que possa):**\n",
    "\n",
    "* Guardar numa variável o número_mágico o valor 12345679 (sem o 8)\n",
    "* Ler por ecrã outro número_utilizador, especificar que seja entre 1 e 9 (assegurar que seja inteiro) \n",
    "* Multiplicar o número_utilizador por 9 por si mesmo\n",
    "* Multiplicar o número_mágico pelo número_utilizador por si mesmo \n",
    "* Finalmente mostrar o valor final do número_mágico por ecrã"
   ]
  },
  {
   "cell_type": "code",
   "execution_count": 5,
   "metadata": {},
   "outputs": [],
   "source": [
    "# Atribuir o valor 12345679 à variável número_mágico\n",
    "numero_mágico = 12345679\n",
    "\n",
    "# Ler um número do usuário entre 1 e 9 (que seja inteiro)\n",
    "numero_utilizador = int(input(\"Digite um número entre 1 e 9: \"))\n",
    "\n",
    "# Multiplicar o número_utilizador por 9 por si mesmo\n",
    "numero_utilizador *= 9\n",
    "\n",
    "# Multiplicar o número_mágico pelo número_utilizador por si mesmo\n",
    "numero_mágico *= numero_utilizador\n",
    "\n",
    "# Mostrar o valor final do número_mágico\n",
    "print(\"O valor final do número mágico é:\", numero_mágico)"
   ]
  }
 ],
 "metadata": {
  "anaconda-cloud": {},
  "kernelspec": {
   "display_name": "Python 3 (ipykernel)",
   "language": "python",
   "name": "python3"
  },
  "language_info": {
   "codemirror_mode": {
    "name": "ipython",
    "version": 3
   },
   "file_extension": ".py",
   "mimetype": "text/x-python",
   "name": "python",
   "nbconvert_exporter": "python",
   "pygments_lexer": "ipython3",
   "version": "3.11.5"
  }
 },
 "nbformat": 4,
 "nbformat_minor": 1
}
